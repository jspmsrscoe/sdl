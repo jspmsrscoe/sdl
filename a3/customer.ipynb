{
 "cells": [
  {
   "cell_type": "code",
   "execution_count": null,
   "id": "ba18163b",
   "metadata": {},
   "outputs": [],
   "source": [
    "import numpy as np\n",
    "import pandas as pd\n",
    "import matplotlib.pyplot as plt"
   ]
  },
  {
   "cell_type": "code",
   "execution_count": null,
   "id": "fe045eeb",
   "metadata": {},
   "outputs": [],
   "source": [
    "db_path = 'Database/ecommerce_sales_data.csv'\n",
    "df = pd.read_csv(db_path)\n",
    "df.fillna(0, inplace=True)"
   ]
  },
  {
   "cell_type": "code",
   "execution_count": null,
   "id": "a1cdcedc",
   "metadata": {},
   "outputs": [],
   "source": [
    "df['Purchase Date'] = pd.to_datetime(df['Purchase Date'], format=\"%d/%m/%Y\")\n",
    "\n",
    "customer_analysis = df.groupby('Customer ID')['Total Sales'].sum().sort_values(ascending=True)\n",
    "print(customer_analysis.head(10))"
   ]
  },
  {
   "cell_type": "code",
   "execution_count": null,
   "id": "2911349b",
   "metadata": {},
   "outputs": [],
   "source": [
    "customer_frequency = df.groupby('Customer ID').value_counts()\n",
    "print(customer_frequency.head(10))"
   ]
  },
  {
   "cell_type": "code",
   "execution_count": null,
   "id": "ef1f30f9",
   "metadata": {},
   "outputs": [],
   "source": [
    "product_sales = df.groupby('Product Name')['Quantity'].sum().sort_values(ascending=True)\n",
    "print(product_sales.head(10))\\\n",
    "\n",
    "top_products = product_sales.head(10)\n",
    "top_products.plot(kind='bar', figsize=(10, 10), color=['skyblue'])\n",
    "plt.title('Top 10 Products by Sales')\n",
    "plt.xlabel('Product Names')\n",
    "plt.ylabel('Total Sales')\n",
    "plt.xticks(rotation=45)\n",
    "plt.show()"
   ]
  },
  {
   "cell_type": "code",
   "execution_count": null,
   "id": "f56e8fca",
   "metadata": {},
   "outputs": [],
   "source": [
    "df['Month'] = df['Purchase Date'].dt.to_period('M')\n",
    "monthly_sales = df.groupby('Month')['Total Sales'].sum()\n",
    "\n",
    "monthly_sales.plot(kind='line', figsize=(10, 6), marker='o')\n",
    "plt.title('Monthly Product Sales')\n",
    "plt.xlabel('Month')\n",
    "plt.ylabel('Total Sales')\n",
    "plt.grid()\n",
    "plt.show()"
   ]
  }
 ],
 "metadata": {
  "kernelspec": {
   "display_name": "Python 3",
   "language": "python",
   "name": "python3"
  },
  "language_info": {
   "codemirror_mode": {
    "name": "ipython",
    "version": 3
   },
   "file_extension": ".py",
   "mimetype": "text/x-python",
   "name": "python",
   "nbconvert_exporter": "python",
   "pygments_lexer": "ipython3",
   "version": "3.13.3"
  }
 },
 "nbformat": 4,
 "nbformat_minor": 5
}
