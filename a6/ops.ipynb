{
 "cells": [
  {
   "cell_type": "code",
   "execution_count": null,
   "id": "5a58acc4",
   "metadata": {},
   "outputs": [],
   "source": [
    "import numpy as np\n",
    "import pandas as pd\n",
    "import matplotlib.pyplot as plt\n",
    "import seaborn as sns\n",
    "\n",
    "from sklearn.model_selection import train_test_split\n",
    "from sklearn.linear_model import LinearRegression\n",
    "from sklearn.metrics import mean_squared_error, r2_score"
   ]
  },
  {
   "cell_type": "code",
   "execution_count": null,
   "id": "a2525e5b",
   "metadata": {},
   "outputs": [],
   "source": [
    "data_path = 'Dataset/summary_of_weather_in_ww2.csv'\n",
    "data = pd.read_csv(data_path, low_memory=False)\n",
    "data.head()"
   ]
  },
  {
   "cell_type": "code",
   "execution_count": null,
   "id": "91b909ce",
   "metadata": {},
   "outputs": [],
   "source": [
    "X = data[['MaxTemp']] #independent var\n",
    "y = data['MinTemp'] #dependent var"
   ]
  },
  {
   "cell_type": "code",
   "execution_count": null,
   "id": "73c87ceb",
   "metadata": {},
   "outputs": [],
   "source": [
    "X_train, X_test, y_train, y_test = train_test_split(X, y, test_size=0.2, random_state=40)\n",
    "\n",
    "model = LinearRegression()\n",
    "model.fit(X_train, y_train);"
   ]
  },
  {
   "cell_type": "code",
   "execution_count": null,
   "id": "13848483",
   "metadata": {},
   "outputs": [],
   "source": [
    "print(\"Intercept: \", model.intercept_)\n",
    "print('coefficiently', model.coef_);"
   ]
  },
  {
   "cell_type": "code",
   "execution_count": null,
   "id": "7b13dbdb",
   "metadata": {},
   "outputs": [],
   "source": [
    "y_pred = model.predict(X_test)"
   ]
  },
  {
   "cell_type": "code",
   "execution_count": null,
   "id": "d1e110e9",
   "metadata": {},
   "outputs": [],
   "source": [
    "mse = mean_squared_error(y_test, y_pred)\n",
    "r2 = r2_score(y_test, y_pred)\n",
    "print(f'{mse}')\n",
    "print(f'{r2}')"
   ]
  },
  {
   "cell_type": "code",
   "execution_count": null,
   "id": "1e1ca962",
   "metadata": {},
   "outputs": [],
   "source": [
    "plt.scatter(X_test, y_test, color='blue', label='Actual')\n",
    "plt.plot(X_test, y_pred, color='red', label='Predicted')\n",
    "plt.xlabel('Freature')\n",
    "plt.ylabel('Target')\n",
    "plt.legend()\n",
    "plt.show()"
   ]
  }
 ],
 "metadata": {
  "kernelspec": {
   "display_name": "Python 3",
   "language": "python",
   "name": "python3"
  },
  "language_info": {
   "codemirror_mode": {
    "name": "ipython",
    "version": 3
   },
   "file_extension": ".py",
   "mimetype": "text/x-python",
   "name": "python",
   "nbconvert_exporter": "python",
   "pygments_lexer": "ipython3",
   "version": "3.13.3"
  }
 },
 "nbformat": 4,
 "nbformat_minor": 5
}
