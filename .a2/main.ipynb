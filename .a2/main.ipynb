{
 "cells": [
  {
   "cell_type": "code",
   "execution_count": null,
   "id": "0cb0476c",
   "metadata": {},
   "outputs": [],
   "source": [
    "import pandas as pd\n",
    "import numpy as np\n",
    "import matplotlib.pyplot as plt\n",
    "import seaborn as sns\n",
    "from scipy.stats import skew, kurtosis"
   ]
  },
  {
   "cell_type": "code",
   "execution_count": null,
   "id": "076642b7",
   "metadata": {},
   "outputs": [],
   "source": [
    "dataset_path = 'Dataset/Heart.csv'\n",
    "df = pd.read_csv(dataset_path)"
   ]
  },
  {
   "cell_type": "code",
   "execution_count": null,
   "id": "c39453c2",
   "metadata": {},
   "outputs": [],
   "source": [
    "print(df.head())\n",
    "print(df.describe())"
   ]
  },
  {
   "cell_type": "code",
   "execution_count": null,
   "id": "3d67cbc3",
   "metadata": {},
   "outputs": [],
   "source": [
    "for column in df.select_dtypes(include=['number']).columns:\n",
    "    print(f'\\nStatistics for {column}')\n",
    "    print(f'Mean {df[column].mean()}')\n",
    "    print(f'Median {df[column].median()}')\n",
    "    print(f'Variance {df[column].var()}')\n",
    "    print(f'Standard Deviation {df[column].std()}')\n",
    "    print(f'Skewness {skew(df[column])}')\n",
    "    print(f'Kurtosis {kurtosis(df[column])}')\n"
   ]
  },
  {
   "cell_type": "code",
   "execution_count": null,
   "id": "f57a310d",
   "metadata": {},
   "outputs": [],
   "source": [
    "print('Correlation Matrix:')"
   ]
  },
  {
   "cell_type": "code",
   "execution_count": null,
   "id": "3ebfe2fa",
   "metadata": {},
   "outputs": [],
   "source": [
    "numeric_data = df.select_dtypes(include=np.number)\n",
    "correlation_matrix = numeric_data.corr()\n",
    "print(correlation_matrix)"
   ]
  },
  {
   "cell_type": "code",
   "execution_count": null,
   "id": "13e5981a",
   "metadata": {},
   "outputs": [],
   "source": [
    "plt.figure(figsize=(10, 8))\n",
    "sns.heatmap(correlation_matrix, annot=True, cmap='coolwarm', fmt='.2f')\n",
    "plt.title('Correlation Matrix')\n",
    "plt.show()"
   ]
  },
  {
   "cell_type": "code",
   "execution_count": null,
   "id": "9df6cbfe",
   "metadata": {},
   "outputs": [],
   "source": [
    "columns_to_plot = df.select_dtypes(include=np.number).columns"
   ]
  },
  {
   "cell_type": "code",
   "execution_count": null,
   "id": "97a02dfa",
   "metadata": {},
   "outputs": [],
   "source": [
    "plt.figure(figsize=(10, 8))\n",
    "for column in columns_to_plot:\n",
    "    plt.plot(df.index, df[column], label=column)\n",
    "plt.title('Line Plot')\n",
    "plt.xlabel('Index')\n",
    "plt.ylabel('Values')\n",
    "plt.grid()\n",
    "plt.legend()\n",
    "plt.show()"
   ]
  },
  {
   "cell_type": "code",
   "execution_count": null,
   "id": "25554369",
   "metadata": {},
   "outputs": [],
   "source": [
    "means = df[columns_to_plot].mean()\n",
    "means.plot(kind='bar', color = 'skyblue', figsize=(10, 8))\n",
    "plt.title('Bar graph of means')\n",
    "plt.xlabel('Columns')\n",
    "plt.ylabel('Mean')\n",
    "plt.show()"
   ]
  },
  {
   "cell_type": "code",
   "execution_count": null,
   "id": "698d6930",
   "metadata": {},
   "outputs": [],
   "source": [
    "for column in columns_to_plot:\n",
    "    plt.figure(figsize=(8, 6))\n",
    "    plt.hist(df[column], bins=15, color='orange', edgecolor='black')\n",
    "    plt.title(f'Histogram of {column}')\n",
    "    plt.ylabel('Frequency')\n",
    "plt.show()"
   ]
  },
  {
   "cell_type": "code",
   "execution_count": null,
   "id": "12bfd18c",
   "metadata": {},
   "outputs": [],
   "source": [
    "if len(columns_to_plot) >= 2:\n",
    "    plt.figure(figsize=(8, 6))\n",
    "    plt.scatter(df[columns_to_plot[3]], df[columns_to_plot[1]], color='green', alpha=0.6)\n",
    "    plt.title(f'Scatter plot of {columns_to_plot[3], columns_to_plot[1]}')\n",
    "    plt.xlabel(columns_to_plot[3])\n",
    "    plt.ylabel(columns_to_plot[1])\n",
    "    plt.grid()\n",
    "    plt.show()"
   ]
  }
 ],
 "metadata": {
  "kernelspec": {
   "display_name": "Python 3",
   "language": "python",
   "name": "python3"
  },
  "language_info": {
   "codemirror_mode": {
    "name": "ipython",
    "version": 3
   },
   "file_extension": ".py",
   "mimetype": "text/x-python",
   "name": "python",
   "nbconvert_exporter": "python",
   "pygments_lexer": "ipython3",
   "version": "3.13.3"
  }
 },
 "nbformat": 4,
 "nbformat_minor": 5
}
