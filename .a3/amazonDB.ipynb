{
 "cells": [
  {
   "cell_type": "code",
   "execution_count": null,
   "id": "0c10b453",
   "metadata": {},
   "outputs": [],
   "source": [
    "import numpy as np\n",
    "import pandas as pd\n",
    "import matplotlib.pyplot as plt"
   ]
  },
  {
   "cell_type": "code",
   "execution_count": null,
   "id": "0c7ecb19",
   "metadata": {},
   "outputs": [],
   "source": [
    "db_path = 'Database/Amazon Sale Report.csv'\n",
    "df = pd.read_csv(db_path, low_memory=False)\n",
    "\n",
    "print(df.info())\n",
    "\n",
    "df.fillna(0, inplace=True)\n",
    "df['Date'] = pd.to_datetime(df['Date'], format='%m-%d-%y')\n",
    "\n",
    "print(df.head())"
   ]
  },
  {
   "cell_type": "code",
   "execution_count": null,
   "id": "7a74a75f",
   "metadata": {},
   "outputs": [],
   "source": [
    "region_sales = df.groupby('ship-state')['Amount'].sum().sort_values(ascending=False)\n",
    "print(region_sales)\n",
    "\n",
    "region_sales.plot(kind='pie', autopct='%1.1f%%', figsize=(8, 8), startangle=90, colors=['skyblue', 'orange', 'lightgreen', 'pink', 'cyan', 'purple'])\n",
    "plt.title('Sales Distribution by Region')\n",
    "plt.ylabel(\"\")\n",
    "plt.show()"
   ]
  }
 ],
 "metadata": {
  "kernelspec": {
   "display_name": "Python 3",
   "language": "python",
   "name": "python3"
  },
  "language_info": {
   "codemirror_mode": {
    "name": "ipython",
    "version": 3
   },
   "file_extension": ".py",
   "mimetype": "text/x-python",
   "name": "python",
   "nbconvert_exporter": "python",
   "pygments_lexer": "ipython3",
   "version": "3.13.3"
  }
 },
 "nbformat": 4,
 "nbformat_minor": 5
}
