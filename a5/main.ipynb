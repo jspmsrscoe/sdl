{
 "cells": [
  {
   "cell_type": "code",
   "execution_count": null,
   "id": "23f53a15",
   "metadata": {},
   "outputs": [],
   "source": [
    "import pandas as pd\n",
    "import matplotlib.pyplot as plt\n",
    "from statsmodels.tsa.seasonal import seasonal_decompose"
   ]
  },
  {
   "cell_type": "code",
   "execution_count": null,
   "id": "aa4ab07b",
   "metadata": {},
   "outputs": [],
   "source": [
    "df = pd.read_csv('Dataset/DailyDelhiClimateTest.csv',  parse_dates=['date'], index_col='date')"
   ]
  },
  {
   "cell_type": "code",
   "execution_count": null,
   "id": "1ecfcde8",
   "metadata": {},
   "outputs": [],
   "source": [
    "df['Moving_Avg'] = df['meantemp'].rolling(window=5).mean()\n",
    "plt.plot(df['meantemp'], label='Original Data')\n",
    "plt.plot(df['Moving_Avg'], label='Moving Average', linestyle='dashed')\n",
    "plt.legend()\n",
    "plt.xticks(rotation=45)\n",
    "plt.show()"
   ]
  },
  {
   "cell_type": "code",
   "execution_count": null,
   "id": "98c2736c",
   "metadata": {},
   "outputs": [],
   "source": [
    "decomposition = seasonal_decompose(df['meantemp'], model='additive', period=12)\n",
    "decomposition.plot()\n",
    "plt.xticks(rotation=45)\n",
    "plt.show()"
   ]
  }
 ],
 "metadata": {
  "kernelspec": {
   "display_name": "Python 3",
   "language": "python",
   "name": "python3"
  },
  "language_info": {
   "codemirror_mode": {
    "name": "ipython",
    "version": 3
   },
   "file_extension": ".py",
   "mimetype": "text/x-python",
   "name": "python",
   "nbconvert_exporter": "python",
   "pygments_lexer": "ipython3",
   "version": "3.13.3"
  }
 },
 "nbformat": 4,
 "nbformat_minor": 5
}
