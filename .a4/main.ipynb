{
 "cells": [
  {
   "cell_type": "code",
   "execution_count": null,
   "id": "edc16754",
   "metadata": {},
   "outputs": [],
   "source": [
    "import requests\n",
    "import json\n",
    "import schedule\n",
    "import time"
   ]
  },
  {
   "cell_type": "code",
   "execution_count": null,
   "id": "8f966216",
   "metadata": {},
   "outputs": [],
   "source": [
    "\n",
    "def fetch_weather(city='Mumbai'):\n",
    "    API_KEY = '3c14979c4869f82d68c5d6ea3c5cd1bb'\n",
    "    url = f\"https://api.openweathermap.org/data/2.5/weather?q={city}&appid={API_KEY}&units=metric\"\n",
    "    response = requests.get(url)\n",
    "    if response.status_code == 200:\n",
    "        data = response.json() \n",
    "        print(data)\n",
    "        return {\n",
    "            'City': city,\n",
    "            'Temperature': data['main']['temp'],\n",
    "            'Humidity': data['main']['humidity'],\n",
    "            'Weather': data['weather'][0]['description']\n",
    "        }\n",
    "    return None"
   ]
  },
  {
   "cell_type": "code",
   "execution_count": null,
   "id": "313f5b33",
   "metadata": {},
   "outputs": [],
   "source": [
    "def automate_fetching():\n",
    "    weather_data = fetch_weather()\n",
    "    if weather_data:\n",
    "        print(weather_data)\n",
    "    else:\n",
    "        print('Failed to feth data')"
   ]
  },
  {
   "cell_type": "code",
   "execution_count": null,
   "id": "3585978e",
   "metadata": {},
   "outputs": [],
   "source": [
    "schedule.every(5).seconds.do(automate_fetching)  \n"
   ]
  },
  {
   "cell_type": "code",
   "execution_count": null,
   "id": "73309c70",
   "metadata": {},
   "outputs": [],
   "source": [
    "for i in range (0, 10):\n",
    "    schedule.run_pending()\n",
    "    time.sleep(1)"
   ]
  },
  {
   "cell_type": "code",
   "execution_count": null,
   "id": "6caf1537",
   "metadata": {},
   "outputs": [],
   "source": []
  }
 ],
 "metadata": {
  "kernelspec": {
   "display_name": "Python 3",
   "language": "python",
   "name": "python3"
  },
  "language_info": {
   "codemirror_mode": {
    "name": "ipython",
    "version": 3
   },
   "file_extension": ".py",
   "mimetype": "text/x-python",
   "name": "python",
   "nbconvert_exporter": "python",
   "pygments_lexer": "ipython3",
   "version": "3.13.3"
  }
 },
 "nbformat": 4,
 "nbformat_minor": 5
}
