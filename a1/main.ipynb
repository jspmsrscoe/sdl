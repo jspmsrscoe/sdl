{
 "cells": [
  {
   "cell_type": "code",
   "execution_count": null,
   "id": "017560b3",
   "metadata": {},
   "outputs": [],
   "source": [
    "import pandas as pd\n",
    "from sklearn.preprocessing import MinMaxScaler"
   ]
  },
  {
   "cell_type": "code",
   "execution_count": null,
   "id": "0fa0fdda",
   "metadata": {},
   "outputs": [],
   "source": [
    "db_path = 'heart.csv'\n",
    "df = pd.read_csv(db_path)\n",
    "print(df.head())\n",
    "print(df.describe())\n",
    "print(df.info())"
   ]
  },
  {
   "cell_type": "code",
   "execution_count": null,
   "id": "35d5e9d3",
   "metadata": {},
   "outputs": [],
   "source": [
    "df.to_excel('database.xlsx', index=False)\n",
    "df.to_json('database.json', orient='records', indent=2)\n",
    "\n",
    "from sqlalchemy import create_engine\n",
    "engine = create_engine('sqlite:///:memory:')\n",
    "df.to_sql('dataset', con=engine, index=False, if_exists='replace')"
   ]
  },
  {
   "cell_type": "code",
   "execution_count": null,
   "id": "18f3bd52",
   "metadata": {},
   "outputs": [],
   "source": [
    "df_excel = pd.read_excel('database.xlsx')\n",
    "df_json = pd.read_json('database.json')\n",
    "df_sql = pd.read_sql('dataset', con=engine)"
   ]
  },
  {
   "cell_type": "code",
   "execution_count": null,
   "id": "e693d045",
   "metadata": {},
   "outputs": [],
   "source": [
    "df.ffill(inplace=True)\n",
    "df.drop_duplicates(inplace=True)\n",
    "scaler = MinMaxScaler()\n",
    "numerical_cols = df.select_dtypes(include=['number']).columns\n",
    "df[numerical_cols] = scaler.fit_transform(df[numerical_cols])\n",
    "\n",
    "df = pd.get_dummies(df, drop_first=True)\n",
    "print(df.head())\n",
    "df.to_csv('cleaned_dataset.csv', index=False)"
   ]
  }
 ],
 "metadata": {
  "kernelspec": {
   "display_name": "Python 3",
   "language": "python",
   "name": "python3"
  },
  "language_info": {
   "codemirror_mode": {
    "name": "ipython",
    "version": 3
   },
   "file_extension": ".py",
   "mimetype": "text/x-python",
   "name": "python",
   "nbconvert_exporter": "python",
   "pygments_lexer": "ipython3",
   "version": "3.13.3"
  }
 },
 "nbformat": 4,
 "nbformat_minor": 5
}
